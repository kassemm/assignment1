{
  "nbformat": 4,
  "nbformat_minor": 0,
  "metadata": {
    "colab": {
      "name": "Lab2.ipynb",
      "provenance": [],
      "collapsed_sections": [],
      "include_colab_link": true
    },
    "kernelspec": {
      "name": "python3",
      "display_name": "Python 3"
    },
    "language_info": {
      "name": "python"
    }
  },
  "cells": [
    {
      "cell_type": "markdown",
      "metadata": {
        "id": "view-in-github",
        "colab_type": "text"
      },
      "source": [
        "<a href=\"https://colab.research.google.com/github/kassemm/assignment1/blob/master/Lab2MoustafaKassem.ipynb\" target=\"_parent\"><img src=\"https://colab.research.google.com/assets/colab-badge.svg\" alt=\"Open In Colab\"/></a>"
      ]
    },
    {
      "cell_type": "markdown",
      "metadata": {
        "id": "xE7Dq2I61mZ9"
      },
      "source": [
        "**params[0]** => crosstrack_error  **params[1]** => diff_crosstrack_error  **params[2]**  =>int_crosstrack_error"
      ]
    },
    {
      "cell_type": "code",
      "metadata": {
        "id": "0vk4Hv7oQEsh"
      },
      "source": [
        "# --------------\n",
        "# User Instructions\n",
        "# \n",
        "# Finish the PID in the run function \n",
        "#\n",
        "#\n",
        "# --------------\n",
        "\n",
        "\n",
        " \n",
        "from math import *\n",
        "import random\n",
        "import matplotlib.pyplot as plt\n",
        "\n",
        "# ------------------------------------------------\n",
        "# \n",
        "# this is the robot class\n",
        "#\n",
        "\n",
        "class robot:\n",
        "\n",
        "    # --------\n",
        "    # init: \n",
        "    #    creates robot and initializes location/orientation to 0, 0, 0\n",
        "    #\n",
        "\n",
        "    def __init__(self, length = 20.0):\n",
        "        self.x = 0.0\n",
        "        self.y = 0.0\n",
        "        self.orientation = 0.0\n",
        "        self.length = length\n",
        "        self.steering_noise = 0.0\n",
        "        self.distance_noise = 0.0\n",
        "        self.steering_drift = 0.0\n",
        "\n",
        "    # --------\n",
        "    # set: \n",
        "    #\tsets a robot coordinate\n",
        "    #\n",
        "\n",
        "    def set(self, new_x, new_y, new_orientation):\n",
        "\n",
        "        self.x = float(new_x)\n",
        "        self.y = float(new_y)\n",
        "        self.orientation = float(new_orientation) % (2.0 * pi)\n",
        "\n",
        "\n",
        "    # --------\n",
        "    # set_noise: \n",
        "    #\tsets the noise parameters\n",
        "    #\n",
        "\n",
        "    def set_noise(self, new_s_noise, new_d_noise):\n",
        "        # makes it possible to change the noise parameters\n",
        "        # this is often useful in particle filters\n",
        "        self.steering_noise = float(new_s_noise)\n",
        "        self.distance_noise = float(new_d_noise)\n",
        "\n",
        "    # --------\n",
        "    # set_steering_drift: \n",
        "    #\tsets the systematical steering drift parameter\n",
        "    #\n",
        "\n",
        "    def set_steering_drift(self, drift):\n",
        "        self.steering_drift = drift\n",
        "        \n",
        "    # --------\n",
        "    # move: \n",
        "    #    steering = front wheel steering angle, limited by max_steering_angle\n",
        "    #    distance = total distance driven, most be non-negative\n",
        "\n",
        "    def move(self, steering, distance, \n",
        "             tolerance = 0.001, max_steering_angle = pi / 4.0):\n",
        "\n",
        "        if steering > max_steering_angle:\n",
        "            steering = max_steering_angle\n",
        "        if steering < -max_steering_angle:\n",
        "            steering = -max_steering_angle\n",
        "        if distance < 0.0:\n",
        "            distance = 0.0\n",
        "\n",
        "\n",
        "        # make a new copy\n",
        "        res = robot()\n",
        "        res.length         = self.length\n",
        "        res.steering_noise = self.steering_noise\n",
        "        res.distance_noise = self.distance_noise\n",
        "        res.steering_drift = self.steering_drift\n",
        "\n",
        "        # apply noise\n",
        "        steering2 = random.gauss(steering, self.steering_noise)\n",
        "        distance2 = random.gauss(distance, self.distance_noise)\n",
        "\n",
        "        # apply steering drift\n",
        "        steering2 += self.steering_drift\n",
        "\n",
        "        # Execute motion\n",
        "        turn = tan(steering2) * distance2 / res.length\n",
        "\n",
        "        if abs(turn) < tolerance:\n",
        "\n",
        "            # approximate by straight line motion\n",
        "\n",
        "            res.x = self.x + (distance2 * cos(self.orientation))\n",
        "            res.y = self.y + (distance2 * sin(self.orientation))\n",
        "            res.orientation = (self.orientation + turn) % (2.0 * pi)\n",
        "\n",
        "        else:\n",
        "\n",
        "            # approximate bicycle model for motion\n",
        "\n",
        "            radius = distance2 / turn\n",
        "            cx = self.x - (sin(self.orientation) * radius)\n",
        "            cy = self.y + (cos(self.orientation) * radius)\n",
        "            res.orientation = (self.orientation + turn) % (2.0 * pi)\n",
        "            res.x = cx + (sin(res.orientation) * radius)\n",
        "            res.y = cy - (cos(res.orientation) * radius)\n",
        "\n",
        "        return res\n",
        "\n",
        "    def __repr__(self):\n",
        "        return '[x=%.5f y=%.5f orient=%.5f]'  % (self.x, self.y, self.orientation)\n",
        "   \n",
        "    def cte(self, radius):#Refer to L6 Control, p 28. \n",
        "        center1 = [radius, radius] \n",
        "        center2 = [radius, 3*radius]\n",
        "        if self.x > radius and self.x < 3*radius: #If x lies in the center straight line segment\n",
        "            if self.y > radius: #If y is above the center line, then compute vertical distance from (x,y) to the top edge of the track\n",
        "                cte = self.y - (2*radius)\n",
        "            else: #If y is below the center line, then compute vertical distance from the bottom edge of the track to (x,y)\n",
        "                cte = -1.0 * self.y\n",
        "        else:\n",
        "            if self.x < 2*radius: #If x lies in the left semi-circle segment (self.x <= radius), then compute Euclidian distance from (x,y) to the perimeter of the left semi-circle \n",
        "                cte = ((self.x - center1[1])**2 + (self.y - center1[0])**2)**0.5 - radius\n",
        "            else: #If x lies in the right semi-circle part (self.x >= 3*radius), then compute Euclidian distance from (x,y) to the perimeter of the right semi-circle\n",
        "                cte = ((self.x - center2[1])**2 + (self.y - center2[0])**2)**0.5 - radius                \n",
        "        \n",
        "       \n",
        "        return cte\n",
        "# ------------------------------------------------------------------------\n",
        "#\n",
        "# run - does a single control run.\n",
        "\n",
        "\n",
        "def run(params, radius, printflag = False):\n",
        "    myrobot = robot()\n",
        "    myrobot.set(0.0, radius, pi / 2.0)\n",
        "    speed = 1.0 # motion distance is equal to speed (we assume time = 1) \n",
        "    err = 0.0\n",
        "    int_crosstrack_error = 0.0\n",
        "    N =1000\n",
        "    crosstrack_error = myrobot.cte(radius)\n",
        "    x_trajectory = []\n",
        "    y_trajectory = []\n",
        "    for i in range(N*2):\n",
        "        diff_crosstrack_error = - crosstrack_error\n",
        "        crosstrack_error = myrobot.cte(radius)\n",
        "        diff_crosstrack_error += crosstrack_error\n",
        "        int_crosstrack_error += crosstrack_error\n",
        "        steer = -params[0] * crosstrack_error - params[1] * diff_crosstrack_error - params[2] * int_crosstrack_error\n",
        "        myrobot = myrobot.move(steer, speed)\n",
        "\n",
        "        if i >= N:\n",
        "            err += crosstrack_error ** 2\n",
        "            x_trajectory.append(myrobot.x)\n",
        "            y_trajectory.append(myrobot.y)\n",
        "        #if printflag:\n",
        "        #    print (myrobot)\n",
        "    if printflag:\n",
        "      plt.plot(x_trajectory,y_trajectory, color=\"r\", linestyle=\"--\", marker=\"*\", linewidth=1.0)\n",
        "      plt.show()\n",
        "    if printflag:\n",
        "      print('**********************************************************************************')\n",
        "      print('\\nFinal parameters: ', params)\n",
        "      print('\\nError: ', err)\n",
        "    return err / float(N)  \n",
        "\n",
        "def twiddle(pd_in,radius,tol=0.2):  \n",
        "    p = [0.9, 0.0, 0.0]\n",
        "    dp=dp_in;\n",
        "    #dp = [1.0, 1.0, 1.0]\n",
        "    best_err = run(p, radius)\n",
        "    it = 0\n",
        "    while sum(dp) > tol:\n",
        "        # print(\"Iteration {}, best error = {}\".format(it, best_err))\n",
        "        for i in range(len(p)):\n",
        "            p[i] += dp[i]\n",
        "            err = run(p, radius)\n",
        "            if err < best_err:\n",
        "                best_err = err\n",
        "                dp[i] *= 1.1\n",
        "            else:\n",
        "                p[i] -= 2 * dp[i]\n",
        "                err = run(p, radius)\n",
        "                if err < best_err:\n",
        "                    best_err = err\n",
        "                    dp[i] *= 1.1\n",
        "                else:\n",
        "                    p[i] += dp[i]\n",
        "                    dp[i] *= 0.9\n",
        "        it += 1\n",
        "    return p, best_err\n",
        "\n",
        "\n"
      ],
      "execution_count": 87,
      "outputs": []
    },
    {
      "cell_type": "markdown",
      "metadata": {
        "id": "JqUO4NDoQCmZ"
      },
      "source": [
        "Below is PIDControl RaceTrack Twiddle.py \n",
        "Radius=50\n",
        "**Controller**= PID  => pd_in=[1.0, 1.0, 1.0] "
      ]
    },
    {
      "cell_type": "code",
      "metadata": {
        "colab": {
          "base_uri": "https://localhost:8080/",
          "height": 350
        },
        "id": "25IUN8sW3PFy",
        "outputId": "70677b7e-6aa1-4296-d499-690bb59aa1e9"
      },
      "source": [
        "radius = 50.0  #change Radius to 50.0 \n",
        "dp_in=[1.0, 1.0, 1.0]\n",
        "\n",
        "params,err = twiddle(dp,radius)\n",
        "err = run(params, radius,True)"
      ],
      "execution_count": 88,
      "outputs": [
        {
          "output_type": "display_data",
          "data": {
            "image/png": "[encoded data removed]",
            "text/plain": [
              "<Figure size 432x288 with 1 Axes>"
            ]
          },
          "metadata": {
            "tags": [],
            "needs_background": "light"
          }
        },
        {
          "output_type": "stream",
          "text": [
            "**********************************************************************************\n",
            "\n",
            "Final parameters:  [4.552740717693687, 22.449962603710926, 4.232642289128589]\n",
            "\n",
            "Error:  0.03652316110206372\n"
          ],
          "name": "stdout"
        }
      ]
    },
    {
      "cell_type": "markdown",
      "metadata": {
        "id": "HU5qTWgq1-Xj"
      },
      "source": [
        "Below is PIDControl RaceTrack Twiddle.py \n",
        "Radius=50\n",
        "**Controller**= PI  => pd_in=[1.0, 0.0, 1.0] \n",
        "\n",
        "---\n",
        "\n"
      ]
    },
    {
      "cell_type": "code",
      "metadata": {
        "colab": {
          "base_uri": "https://localhost:8080/",
          "height": 350
        },
        "id": "OwvwZMaF2Akt",
        "outputId": "0ad77bf3-f4ae-4859-dd2f-c35152517c49"
      },
      "source": [
        "radius = 50.0  #change Radius to 50.0 \n",
        "dp_in=[1.0, 0.0, 1.0]\n",
        "\n",
        "params,err = twiddle(dp,radius)\n",
        "err = run(params, radius,True)"
      ],
      "execution_count": 89,
      "outputs": [
        {
          "output_type": "display_data",
          "data": {
            "image/png": "[encoded data removed]",
            "text/plain": [
              "<Figure size 432x288 with 1 Axes>"
            ]
          },
          "metadata": {
            "tags": [],
            "needs_background": "light"
          }
        },
        {
          "output_type": "stream",
          "text": [
            "**********************************************************************************\n",
            "\n",
            "Final parameters:  [0.08999999999999989, 0.0, 0.0]\n",
            "\n",
            "Error:  94515.7345252424\n"
          ],
          "name": "stdout"
        }
      ]
    },
    {
      "cell_type": "markdown",
      "metadata": {
        "id": "x79RDNiE2X_N"
      },
      "source": [
        "Below is PIDControl RaceTrack Twiddle.py \n",
        "Radius=50\n",
        "**Controller**= P  => pd_in=[1.0, 0.0, 0.0] "
      ]
    },
    {
      "cell_type": "code",
      "metadata": {
        "colab": {
          "base_uri": "https://localhost:8080/",
          "height": 350
        },
        "id": "WpCNqLKy2g_N",
        "outputId": "99486ad6-d6ee-491b-a2de-32a14cfcc24a"
      },
      "source": [
        "radius = 50.0  #change Radius to 50.0 \n",
        "dp_in=[1.0, 0.0, 0.0]\n",
        "\n",
        "params,err = twiddle(dp,radius)\n",
        "err = run(params, radius,True)"
      ],
      "execution_count": 90,
      "outputs": [
        {
          "output_type": "display_data",
          "data": {
            "image/png": "[encoded data removed]",
            "text/plain": [
              "<Figure size 432x288 with 1 Axes>"
            ]
          },
          "metadata": {
            "tags": [],
            "needs_background": "light"
          }
        },
        {
          "output_type": "stream",
          "text": [
            "**********************************************************************************\n",
            "\n",
            "Final parameters:  [0.08999999999999989, 0.0, 0.0]\n",
            "\n",
            "Error:  94515.7345252424\n"
          ],
          "name": "stdout"
        }
      ]
    },
    {
      "cell_type": "markdown",
      "metadata": {
        "id": "gTxzKfq_2_Qp"
      },
      "source": [
        "Below is PIDControl RaceTrack Twiddle.py \n",
        "Radius=50\n",
        "**Controller**= PD  => pd_in=[1.0, 1.0, 0.0] "
      ]
    },
    {
      "cell_type": "code",
      "metadata": {
        "colab": {
          "base_uri": "https://localhost:8080/",
          "height": 350
        },
        "id": "iqLf886a2wR7",
        "outputId": "838ca8c2-f5aa-4abd-c571-d0ad63d78ec7"
      },
      "source": [
        "radius = 50.0  #change Radius to 50.0 \n",
        "dp_in=[1.0, 1.0, 0.0]\n",
        "\n",
        "params,err = twiddle(dp,radius)\n",
        "err = run(params, radius,True)\n"
      ],
      "execution_count": 91,
      "outputs": [
        {
          "output_type": "display_data",
          "data": {
            "image/png": "[encoded data removed]",
            "text/plain": [
              "<Figure size 432x288 with 1 Axes>"
            ]
          },
          "metadata": {
            "tags": [],
            "needs_background": "light"
          }
        },
        {
          "output_type": "stream",
          "text": [
            "**********************************************************************************\n",
            "\n",
            "Final parameters:  [11.939722492486624, 16.149222419737008, 0.0]\n",
            "\n",
            "Error:  0.6344948052570877\n"
          ],
          "name": "stdout"
        }
      ]
    },
    {
      "cell_type": "code",
      "metadata": {
        "id": "EEBILOKP3rZr"
      },
      "source": [
        "##Task two speed =10  "
      ],
      "execution_count": 92,
      "outputs": []
    },
    {
      "cell_type": "markdown",
      "metadata": {
        "id": "s_xL8rBEPUT7"
      },
      "source": [
        "With speed =10 => (speed =10.0 dt=1)"
      ]
    },
    {
      "cell_type": "code",
      "metadata": {
        "id": "rC4xV2d-4Wtu"
      },
      "source": [
        "# --------------\n",
        "# User Instructions\n",
        "# \n",
        "# Finish the PID in the run function \n",
        "#\n",
        "#\n",
        "# --------------\n",
        "\n",
        "\n",
        " \n",
        "from math import *\n",
        "import random\n",
        "import matplotlib.pyplot as plt\n",
        "\n",
        "# ------------------------------------------------\n",
        "# \n",
        "# this is the robot class\n",
        "#\n",
        "\n",
        "class robot:\n",
        "\n",
        "    # --------\n",
        "    # init: \n",
        "    #    creates robot and initializes location/orientation to 0, 0, 0\n",
        "    #\n",
        "\n",
        "    def __init__(self, length = 20.0):\n",
        "        self.x = 0.0\n",
        "        self.y = 0.0\n",
        "        self.orientation = 0.0\n",
        "        self.length = length\n",
        "        self.steering_noise = 0.0\n",
        "        self.distance_noise = 0.0\n",
        "        self.steering_drift = 0.0\n",
        "\n",
        "    # --------\n",
        "    # set: \n",
        "    #\tsets a robot coordinate\n",
        "    #\n",
        "\n",
        "    def set(self, new_x, new_y, new_orientation):\n",
        "\n",
        "        self.x = float(new_x)\n",
        "        self.y = float(new_y)\n",
        "        self.orientation = float(new_orientation) % (2.0 * pi)\n",
        "\n",
        "\n",
        "    # --------\n",
        "    # set_noise: \n",
        "    #\tsets the noise parameters\n",
        "    #\n",
        "\n",
        "    def set_noise(self, new_s_noise, new_d_noise):\n",
        "        # makes it possible to change the noise parameters\n",
        "        # this is often useful in particle filters\n",
        "        self.steering_noise = float(new_s_noise)\n",
        "        self.distance_noise = float(new_d_noise)\n",
        "\n",
        "    # --------\n",
        "    # set_steering_drift: \n",
        "    #\tsets the systematical steering drift parameter\n",
        "    #\n",
        "\n",
        "    def set_steering_drift(self, drift):\n",
        "        self.steering_drift = drift\n",
        "        \n",
        "    # --------\n",
        "    # move: \n",
        "    #    steering = front wheel steering angle, limited by max_steering_angle\n",
        "    #    distance = total distance driven, most be non-negative\n",
        "\n",
        "    def move(self, steering, distance, \n",
        "             tolerance = 0.001, max_steering_angle = pi / 4.0):\n",
        "\n",
        "        if steering > max_steering_angle:\n",
        "            steering = max_steering_angle\n",
        "        if steering < -max_steering_angle:\n",
        "            steering = -max_steering_angle\n",
        "        if distance < 0.0:\n",
        "            distance = 0.0\n",
        "\n",
        "\n",
        "        # make a new copy\n",
        "        res = robot()\n",
        "        res.length         = self.length\n",
        "        res.steering_noise = self.steering_noise\n",
        "        res.distance_noise = self.distance_noise\n",
        "        res.steering_drift = self.steering_drift\n",
        "\n",
        "        # apply noise\n",
        "        steering2 = random.gauss(steering, self.steering_noise)\n",
        "        distance2 = random.gauss(distance, self.distance_noise)\n",
        "\n",
        "        # apply steering drift\n",
        "        steering2 += self.steering_drift\n",
        "\n",
        "        # Execute motion\n",
        "        turn = tan(steering2) * distance2 / res.length\n",
        "\n",
        "        if abs(turn) < tolerance:\n",
        "\n",
        "            # approximate by straight line motion\n",
        "\n",
        "            res.x = self.x + (distance2 * cos(self.orientation))\n",
        "            res.y = self.y + (distance2 * sin(self.orientation))\n",
        "            res.orientation = (self.orientation + turn) % (2.0 * pi)\n",
        "\n",
        "        else:\n",
        "\n",
        "            # approximate bicycle model for motion\n",
        "\n",
        "            radius = distance2 / turn\n",
        "            cx = self.x - (sin(self.orientation) * radius)\n",
        "            cy = self.y + (cos(self.orientation) * radius)\n",
        "            res.orientation = (self.orientation + turn) % (2.0 * pi)\n",
        "            res.x = cx + (sin(res.orientation) * radius)\n",
        "            res.y = cy - (cos(res.orientation) * radius)\n",
        "\n",
        "        return res\n",
        "\n",
        "    def __repr__(self):\n",
        "        return '[x=%.5f y=%.5f orient=%.5f]'  % (self.x, self.y, self.orientation)\n",
        "   \n",
        "    def cte(self, radius):#Refer to L6 Control, p 28. \n",
        "        center1 = [radius, radius] \n",
        "        center2 = [radius, 3*radius]\n",
        "        if self.x > radius and self.x < 3*radius: #If x lies in the center straight line segment\n",
        "            if self.y > radius: #If y is above the center line, then compute vertical distance from (x,y) to the top edge of the track\n",
        "                cte = self.y - (2*radius)\n",
        "            else: #If y is below the center line, then compute vertical distance from the bottom edge of the track to (x,y)\n",
        "                cte = -1.0 * self.y\n",
        "        else:\n",
        "            if self.x < 2*radius: #If x lies in the left semi-circle segment (self.x <= radius), then compute Euclidian distance from (x,y) to the perimeter of the left semi-circle \n",
        "                cte = ((self.x - center1[1])**2 + (self.y - center1[0])**2)**0.5 - radius\n",
        "            else: #If x lies in the right semi-circle part (self.x >= 3*radius), then compute Euclidian distance from (x,y) to the perimeter of the right semi-circle\n",
        "                cte = ((self.x - center2[1])**2 + (self.y - center2[0])**2)**0.5 - radius                \n",
        "        \n",
        "       \n",
        "        return cte\n",
        "# ------------------------------------------------------------------------\n",
        "#\n",
        "# run - does a single control run.\n",
        "\n",
        "\n",
        "def run(params, radius, printflag = False,dt=1 ):\n",
        "    myrobot = robot()\n",
        "    myrobot.set(0.0, radius, pi / 2.0)\n",
        "    speed =  10.0  \n",
        "    err = 0.0\n",
        "    int_crosstrack_error = 0.0\n",
        "    N =1000\n",
        "    crosstrack_error = myrobot.cte(radius)\n",
        "    x_trajectory = []\n",
        "    y_trajectory = []\n",
        "    for i in range(N*2):\n",
        "        diff_crosstrack_error = - crosstrack_error\n",
        "        crosstrack_error = myrobot.cte(radius)\n",
        "        diff_crosstrack_error += crosstrack_error  #\n",
        "        #diff_crosstrack_error = (diff_crosstrack_error + crosstrack_error)/dt # cte -prev(olddiff_crosstrack_error)  #mkas\n",
        "        int_crosstrack_error += crosstrack_error\n",
        "        #int_crosstrack_error = (int_crosstrack_error+ crosstrack_error)/dt   #mkas\n",
        "        steer = -params[0] * crosstrack_error - params[1] * diff_crosstrack_error - params[2] * int_crosstrack_error\n",
        "        myrobot = myrobot.move(steer, speed)\n",
        "\n",
        "        if i >= N:\n",
        "            err += crosstrack_error ** 2\n",
        "            x_trajectory.append(myrobot.x)\n",
        "            y_trajectory.append(myrobot.y)\n",
        "        #if printflag:\n",
        "        #    print (myrobot)\n",
        "    if printflag:\n",
        "      plt.plot(x_trajectory,y_trajectory, color=\"r\", linestyle=\"--\", marker=\"*\", linewidth=1.0)\n",
        "      plt.show()\n",
        "    if printflag:\n",
        "      print('**********************************************************************************')\n",
        "      print('\\nFinal parameters: ', params)\n",
        "      print('\\nError: ', err)\n",
        "    return err / float(N)  \n",
        "\n",
        "def twiddle(pd_in,radius,tol=0.2):  \n",
        "    p = [0.9, 0.0, 0.0]\n",
        "    dp=dp_in;\n",
        "    #dp = [1.0, 1.0, 1.0]\n",
        "    best_err = run(p, radius)\n",
        "    it = 0\n",
        "    while sum(dp) > tol:\n",
        "        # print(\"Iteration {}, best error = {}\".format(it, best_err))\n",
        "        for i in range(len(p)):\n",
        "            p[i] += dp[i]\n",
        "            err = run(p, radius)\n",
        "            if err < best_err:\n",
        "                best_err = err\n",
        "                dp[i] *= 1.1\n",
        "            else:\n",
        "                p[i] -= 2 * dp[i]\n",
        "                err = run(p, radius)\n",
        "                if err < best_err:\n",
        "                    best_err = err\n",
        "                    dp[i] *= 1.1\n",
        "                else:\n",
        "                    p[i] += dp[i]\n",
        "                    dp[i] *= 0.9\n",
        "        it += 1\n",
        "    return p, best_err\n",
        "\n",
        "\n"
      ],
      "execution_count": 93,
      "outputs": []
    },
    {
      "cell_type": "code",
      "metadata": {
        "colab": {
          "base_uri": "https://localhost:8080/",
          "height": 350
        },
        "id": "-dmPpwnP5MIz",
        "outputId": "e8adee1b-6016-4494-a290-a441a623eae7"
      },
      "source": [
        "radius = 50.0  #change Radius to 50.0 \n",
        "dp_in=[1.0, 1.0, 1.0]\n",
        "params,err = twiddle(dp,radius)\n",
        "err = run(params, radius,True,dt=1.0)"
      ],
      "execution_count": 94,
      "outputs": [
        {
          "output_type": "display_data",
          "data": {
            "image/png": "[encoded data removed]",
            "text/plain": [
              "<Figure size 432x288 with 1 Axes>"
            ]
          },
          "metadata": {
            "tags": [],
            "needs_background": "light"
          }
        },
        {
          "output_type": "stream",
          "text": [
            "**********************************************************************************\n",
            "\n",
            "Final parameters:  [0.7376030844089747, 1.2657765699559422, 0.04239115827521625]\n",
            "\n",
            "Error:  36257.4479438168\n"
          ],
          "name": "stdout"
        }
      ]
    },
    {
      "cell_type": "markdown",
      "metadata": {
        "id": "K9tt5NDWQE5g"
      },
      "source": [
        "With speed =10 => (speed =1.0 dt=0.1)  **Better** error"
      ]
    },
    {
      "cell_type": "code",
      "metadata": {
        "id": "AzAzt-8mQMRA"
      },
      "source": [
        "# --------------\n",
        "# User Instructions\n",
        "# \n",
        "# Finish the PID in the run function \n",
        "#\n",
        "#\n",
        "# --------------\n",
        "\n",
        "\n",
        " \n",
        "from math import *\n",
        "import random\n",
        "import matplotlib.pyplot as plt\n",
        "\n",
        "# ------------------------------------------------\n",
        "# \n",
        "# this is the robot class\n",
        "#\n",
        "\n",
        "class robot:\n",
        "\n",
        "    # --------\n",
        "    # init: \n",
        "    #    creates robot and initializes location/orientation to 0, 0, 0\n",
        "    #\n",
        "\n",
        "    def __init__(self, length = 20.0):\n",
        "        self.x = 0.0\n",
        "        self.y = 0.0\n",
        "        self.orientation = 0.0\n",
        "        self.length = length\n",
        "        self.steering_noise = 0.0\n",
        "        self.distance_noise = 0.0\n",
        "        self.steering_drift = 0.0\n",
        "\n",
        "    # --------\n",
        "    # set: \n",
        "    #\tsets a robot coordinate\n",
        "    #\n",
        "\n",
        "    def set(self, new_x, new_y, new_orientation):\n",
        "\n",
        "        self.x = float(new_x)\n",
        "        self.y = float(new_y)\n",
        "        self.orientation = float(new_orientation) % (2.0 * pi)\n",
        "\n",
        "\n",
        "    # --------\n",
        "    # set_noise: \n",
        "    #\tsets the noise parameters\n",
        "    #\n",
        "\n",
        "    def set_noise(self, new_s_noise, new_d_noise):\n",
        "        # makes it possible to change the noise parameters\n",
        "        # this is often useful in particle filters\n",
        "        self.steering_noise = float(new_s_noise)\n",
        "        self.distance_noise = float(new_d_noise)\n",
        "\n",
        "    # --------\n",
        "    # set_steering_drift: \n",
        "    #\tsets the systematical steering drift parameter\n",
        "    #\n",
        "\n",
        "    def set_steering_drift(self, drift):\n",
        "        self.steering_drift = drift\n",
        "        \n",
        "    # --------\n",
        "    # move: \n",
        "    #    steering = front wheel steering angle, limited by max_steering_angle\n",
        "    #    distance = total distance driven, most be non-negative\n",
        "\n",
        "    def move(self, steering, distance, \n",
        "             tolerance = 0.001, max_steering_angle = pi / 4.0):\n",
        "\n",
        "        if steering > max_steering_angle:\n",
        "            steering = max_steering_angle\n",
        "        if steering < -max_steering_angle:\n",
        "            steering = -max_steering_angle\n",
        "        if distance < 0.0:\n",
        "            distance = 0.0\n",
        "\n",
        "\n",
        "        # make a new copy\n",
        "        res = robot()\n",
        "        res.length         = self.length\n",
        "        res.steering_noise = self.steering_noise\n",
        "        res.distance_noise = self.distance_noise\n",
        "        res.steering_drift = self.steering_drift\n",
        "\n",
        "        # apply noise\n",
        "        steering2 = random.gauss(steering, self.steering_noise)\n",
        "        distance2 = random.gauss(distance, self.distance_noise)\n",
        "\n",
        "        # apply steering drift\n",
        "        steering2 += self.steering_drift\n",
        "\n",
        "        # Execute motion\n",
        "        turn = tan(steering2) * distance2 / res.length\n",
        "\n",
        "        if abs(turn) < tolerance:\n",
        "\n",
        "            # approximate by straight line motion\n",
        "\n",
        "            res.x = self.x + (distance2 * cos(self.orientation))\n",
        "            res.y = self.y + (distance2 * sin(self.orientation))\n",
        "            res.orientation = (self.orientation + turn) % (2.0 * pi)\n",
        "\n",
        "        else:\n",
        "\n",
        "            # approximate bicycle model for motion\n",
        "\n",
        "            radius = distance2 / turn\n",
        "            cx = self.x - (sin(self.orientation) * radius)\n",
        "            cy = self.y + (cos(self.orientation) * radius)\n",
        "            res.orientation = (self.orientation + turn) % (2.0 * pi)\n",
        "            res.x = cx + (sin(res.orientation) * radius)\n",
        "            res.y = cy - (cos(res.orientation) * radius)\n",
        "\n",
        "        return res\n",
        "\n",
        "    def __repr__(self):\n",
        "        return '[x=%.5f y=%.5f orient=%.5f]'  % (self.x, self.y, self.orientation)\n",
        "   \n",
        "    def cte(self, radius):#Refer to L6 Control, p 28. \n",
        "        center1 = [radius, radius] \n",
        "        center2 = [radius, 3*radius]\n",
        "        if self.x > radius and self.x < 3*radius: #If x lies in the center straight line segment\n",
        "            if self.y > radius: #If y is above the center line, then compute vertical distance from (x,y) to the top edge of the track\n",
        "                cte = self.y - (2*radius)\n",
        "            else: #If y is below the center line, then compute vertical distance from the bottom edge of the track to (x,y)\n",
        "                cte = -1.0 * self.y\n",
        "        else:\n",
        "            if self.x < 2*radius: #If x lies in the left semi-circle segment (self.x <= radius), then compute Euclidian distance from (x,y) to the perimeter of the left semi-circle \n",
        "                cte = ((self.x - center1[1])**2 + (self.y - center1[0])**2)**0.5 - radius\n",
        "            else: #If x lies in the right semi-circle part (self.x >= 3*radius), then compute Euclidian distance from (x,y) to the perimeter of the right semi-circle\n",
        "                cte = ((self.x - center2[1])**2 + (self.y - center2[0])**2)**0.5 - radius                \n",
        "        \n",
        "       \n",
        "        return cte\n",
        "# ------------------------------------------------------------------------\n",
        "#\n",
        "# run - does a single control run.\n",
        "\n",
        "\n",
        "def run(params, radius, printflag = False,dt=1 ):\n",
        "    myrobot = robot()\n",
        "    myrobot.set(0.0, radius, pi / 2.0)\n",
        "    speed =  1.0  \n",
        "    err = 0.0\n",
        "    int_crosstrack_error = 0.0\n",
        "    N =1000\n",
        "    crosstrack_error = myrobot.cte(radius)\n",
        "    x_trajectory = []\n",
        "    y_trajectory = []\n",
        "    for i in range(N*2):\n",
        "        diff_crosstrack_error = - crosstrack_error\n",
        "        crosstrack_error = myrobot.cte(radius)\n",
        "        diff_crosstrack_error += crosstrack_error  #\n",
        "        #diff_crosstrack_error = (diff_crosstrack_error + crosstrack_error)/dt # cte -prev(olddiff_crosstrack_error)  #mkas\n",
        "        int_crosstrack_error += crosstrack_error\n",
        "        #int_crosstrack_error = (int_crosstrack_error+ crosstrack_error)/dt   #mkas\n",
        "        steer = -params[0] * crosstrack_error - params[1] * diff_crosstrack_error - params[2] * int_crosstrack_error\n",
        "        myrobot = myrobot.move(steer, speed)\n",
        "\n",
        "        if i >= N:\n",
        "            err += crosstrack_error ** 2\n",
        "            x_trajectory.append(myrobot.x)\n",
        "            y_trajectory.append(myrobot.y)\n",
        "        #if printflag:\n",
        "        #    print (myrobot)\n",
        "    if printflag:\n",
        "      plt.plot(x_trajectory,y_trajectory, color=\"r\", linestyle=\"--\", marker=\"*\", linewidth=1.0)\n",
        "      plt.show()\n",
        "    if printflag:\n",
        "      print('**********************************************************************************')\n",
        "      print('\\nFinal parameters: ', params)\n",
        "      print('\\nError: ', err)\n",
        "    return err / float(N)  \n",
        "\n",
        "def twiddle(pd_in,radius,tol=0.2):  \n",
        "    p = [0.9, 0.0, 0.0]\n",
        "    dp=dp_in;\n",
        "    #dp = [1.0, 1.0, 1.0]\n",
        "    best_err = run(p, radius)\n",
        "    it = 0\n",
        "    while sum(dp) > tol:\n",
        "        # print(\"Iteration {}, best error = {}\".format(it, best_err))\n",
        "        for i in range(len(p)):\n",
        "            p[i] += dp[i]\n",
        "            err = run(p, radius)\n",
        "            if err < best_err:\n",
        "                best_err = err\n",
        "                dp[i] *= 1.1\n",
        "            else:\n",
        "                p[i] -= 2 * dp[i]\n",
        "                err = run(p, radius)\n",
        "                if err < best_err:\n",
        "                    best_err = err\n",
        "                    dp[i] *= 1.1\n",
        "                else:\n",
        "                    p[i] += dp[i]\n",
        "                    dp[i] *= 0.9\n",
        "        it += 1\n",
        "    return p, best_err\n",
        "\n",
        "\n"
      ],
      "execution_count": 95,
      "outputs": []
    },
    {
      "cell_type": "code",
      "metadata": {
        "colab": {
          "base_uri": "https://localhost:8080/",
          "height": 350
        },
        "id": "S179QpDIQJLS",
        "outputId": "c54e2090-feed-4b4e-d11a-e91913f4019b"
      },
      "source": [
        "radius = 50.0  #change Radius to 50.0 \n",
        "dp_in=[1.0, 1.0, 1.0]\n",
        "params,err = twiddle(dp,radius)\n",
        "err = run(params, radius,True,dt=0.1)"
      ],
      "execution_count": 96,
      "outputs": [
        {
          "output_type": "display_data",
          "data": {
            "image/png": "[encoded data removed]",
            "text/plain": [
              "<Figure size 432x288 with 1 Axes>"
            ]
          },
          "metadata": {
            "tags": [],
            "needs_background": "light"
          }
        },
        {
          "output_type": "stream",
          "text": [
            "**********************************************************************************\n",
            "\n",
            "Final parameters:  [4.552740717693687, 22.449962603710926, 4.232642289128589]\n",
            "\n",
            "Error:  0.03652316110206372\n"
          ],
          "name": "stdout"
        }
      ]
    }
  ]
}